{
 "cells": [
  {
   "cell_type": "markdown",
   "metadata": {},
   "source": [
    "El condicional mas basico es la condicional if\n",
    "\n",
    "<img src=\"if.png\">\n",
    "\n",
    "Condicional= Decision\n",
    "\n",
    "En palabras sencillas es tomar una decision y saber que pasara si eliges por ejemplo entrar o no a clases "
   ]
  },
  {
   "cell_type": "markdown",
   "metadata": {},
   "source": [
    "1. Crea un diagrama en el que decidas si entras o no a clases <br>\n",
    "<img src=\"dddd.png\">"
   ]
  },
  {
   "cell_type": "markdown",
   "metadata": {},
   "source": [
    "2. Crea un programa que diga si debe de tomar coca-cola fria o no dependiendo de la temperatura, es decir, le preguntas si tiene calor, si la respuesta es si, debe de tomar coca-cola fria\n",
    "en caso de que no solo debe de tomar coca-cola\n"
   ]
  },
  {
   "cell_type": "code",
   "execution_count": 1,
   "metadata": {},
   "outputs": [
    {
     "name": "stdout",
     "output_type": "stream",
     "text": [
      "Tengo calor???\n",
      "ingresa SI o NO\n"
     ]
    }
   ],
   "source": [
    "s='''Tengo calor???'''\n",
    "print(s)\n",
    "print('ingresa SI o NO')\n",
    "x=input()\n",
    "y=\"SI\"\n",
    "z=\"NO\"\n",
    "if x==y:\n",
    "  print(y,\"Tomate coca fría \")\n",
    "else :\n",
    "   print(z,\"Tomate coca al tiempo\")"
   ]
  },
  {
   "cell_type": "markdown",
   "metadata": {},
   "source": [
    "3. Crea un programa que diga si le alcanza para el camion o no, sabiendo que el camion cuesta 12 pesos "
   ]
  },
  {
   "cell_type": "code",
   "execution_count": 2,
   "metadata": {},
   "outputs": [
    {
     "name": "stdout",
     "output_type": "stream",
     "text": [
      "no te alcanza para el camion\n"
     ]
    }
   ],
   "source": [
    "x=int(input(\"cuanro dinero rienes?\"))\n",
    "termino = input()\n",
    "if int(termino) <=12:\n",
    "    print((\"no te alcanza para el camion\"))\n",
    "elif int(termino) >=12:\n",
    "    print((\"si te alcanza el camion\"))"
   ]
  },
  {
   "cell_type": "markdown",
   "metadata": {},
   "source": [
    "4. Crea un programa que diga si eres mayor o menor de edad "
   ]
  },
  {
   "cell_type": "code",
   "execution_count": 5,
   "metadata": {},
   "outputs": [
    {
     "name": "stdout",
     "output_type": "stream",
     "text": [
      "eres mayor de edad\n"
     ]
    }
   ],
   "source": [
    "x=int(input(\"cuantos años tienes\"))\n",
    "termino = input()\n",
    "if int(termino) <=18:\n",
    "    print ((\"eres menor de edad\"))\n",
    "elif int(termino) >=18:\n",
    "    print((\"eres mayor de edad\"))"
   ]
  },
  {
   "cell_type": "markdown",
   "metadata": {},
   "source": [
    "5. Agrega un programa con ifs anidados"
   ]
  },
  {
   "cell_type": "code",
   "execution_count": 4,
   "metadata": {},
   "outputs": [
    {
     "name": "stdout",
     "output_type": "stream",
     "text": [
      "cuanto dolor tienes del 0 al 100\n",
      "no te va a pasar nada\n"
     ]
    }
   ],
   "source": [
    "print(\"cuanto dolor tienes del 0 al 100\")\n",
    "termino = input()\n",
    "if int(termino)<=70:\n",
    "    print((\"no te va a pasar nada\"))\n",
    "else:\n",
    "    if int(termino) <100:\n",
    "        print(\"te vas a poner muy mal\")"
   ]
  }
 ],
 "metadata": {
  "kernelspec": {
   "display_name": "Python 3",
   "language": "python",
   "name": "python3"
  },
  "language_info": {
   "codemirror_mode": {
    "name": "ipython",
    "version": 3
   },
   "file_extension": ".py",
   "mimetype": "text/x-python",
   "name": "python",
   "nbconvert_exporter": "python",
   "pygments_lexer": "ipython3",
   "version": "3.11.8"
  }
 },
 "nbformat": 4,
 "nbformat_minor": 2
}
